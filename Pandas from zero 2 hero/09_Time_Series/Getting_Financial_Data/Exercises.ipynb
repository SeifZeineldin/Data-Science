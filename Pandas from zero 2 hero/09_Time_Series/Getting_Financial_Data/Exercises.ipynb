{
 "cells": [
  {
   "cell_type": "markdown",
   "metadata": {},
   "source": [
    "# Getting Financial Data - Pandas Datareader"
   ]
  },
  {
   "cell_type": "markdown",
   "metadata": {},
   "source": [
    "### Introduction:\n",
    "\n",
    "This time you will get data from a website.\n",
    "\n",
    "\n",
    "### Step 1. Import the necessary libraries"
   ]
  },
  {
   "cell_type": "code",
   "execution_count": 24,
   "metadata": {
    "ExecuteTime": {
     "end_time": "2022-07-17T19:16:01.250966Z",
     "start_time": "2022-07-17T19:16:01.240014Z"
    }
   },
   "outputs": [],
   "source": [
    "import pandas as pd \n",
    "from alpha_vantage.timeseries import TimeSeries as pdr\n",
    "import matplotlib.pyplot as plt"
   ]
  },
  {
   "cell_type": "markdown",
   "metadata": {},
   "source": [
    "### Step 2. Create your time range (start and end variables). The start date should be 01/01/2015 and the end should today (whatever your today is)."
   ]
  },
  {
   "cell_type": "code",
   "execution_count": 25,
   "metadata": {
    "ExecuteTime": {
     "end_time": "2022-07-17T19:16:03.029582Z",
     "start_time": "2022-07-17T19:16:03.016623Z"
    }
   },
   "outputs": [
    {
     "data": {
      "text/plain": [
       "DatetimeIndex(['2015-01-01', '2015-01-02', '2015-01-03', '2015-01-04',\n",
       "               '2015-01-05', '2015-01-06', '2015-01-07', '2015-01-08',\n",
       "               '2015-01-09', '2015-01-10',\n",
       "               ...\n",
       "               '2022-07-08', '2022-07-09', '2022-07-10', '2022-07-11',\n",
       "               '2022-07-12', '2022-07-13', '2022-07-14', '2022-07-15',\n",
       "               '2022-07-16', '2022-07-17'],\n",
       "              dtype='datetime64[ns]', length=2755, freq='D')"
      ]
     },
     "execution_count": 25,
     "metadata": {},
     "output_type": "execute_result"
    }
   ],
   "source": [
    "start=\"1/1/2015\"\n",
    "end=\"17/7/2022\"\n",
    "rng = pd.date_range(start=start,end=end,freq=\"D\")\n",
    "rng"
   ]
  },
  {
   "cell_type": "markdown",
   "metadata": {},
   "source": [
    "### Step 3. Get an API key for one of the APIs that are supported by Pandas Datareader, preferably for AlphaVantage.\n",
    "\n",
    "If you do not have an API key for any of the supported APIs, it is easiest to get one for [AlphaVantage](https://www.alphavantage.co/support/#api-key). (Note that the API key is shown directly after the signup. You do *not* receive it via e-mail.)\n",
    "\n",
    "(For a full list of the APIs that are supported by Pandas Datareader, [see here](https://pydata.github.io/pandas-datareader/readers/index.html). As the APIs are provided by third parties, this list may change.)"
   ]
  },
  {
   "cell_type": "markdown",
   "metadata": {},
   "source": [
    "### Step 4. Use Pandas Datarader to read the daily time series for the Apple stock (ticker symbol AAPL) between 01/01/2015 and today, assign it to df_apple and print it."
   ]
  },
  {
   "cell_type": "code",
   "execution_count": 27,
   "metadata": {
    "ExecuteTime": {
     "end_time": "2022-07-17T19:16:18.137657Z",
     "start_time": "2022-07-17T19:16:15.923858Z"
    }
   },
   "outputs": [],
   "source": [
    "key=\"UNSKJGH8FGFHOEG3\"\n",
    "ts=TimeSeries(key=key,output_format=\"pandas\")\n",
    "data,meta=ts.get_intraday(\"AAPL\",interval=\"15min\",outputsize=\"full\")\n"
   ]
  },
  {
   "cell_type": "code",
   "execution_count": 28,
   "metadata": {
    "ExecuteTime": {
     "end_time": "2022-07-17T19:16:22.568218Z",
     "start_time": "2022-07-17T19:16:22.541286Z"
    }
   },
   "outputs": [
    {
     "data": {
      "text/html": [
       "<div>\n",
       "<style scoped>\n",
       "    .dataframe tbody tr th:only-of-type {\n",
       "        vertical-align: middle;\n",
       "    }\n",
       "\n",
       "    .dataframe tbody tr th {\n",
       "        vertical-align: top;\n",
       "    }\n",
       "\n",
       "    .dataframe thead th {\n",
       "        text-align: right;\n",
       "    }\n",
       "</style>\n",
       "<table border=\"1\" class=\"dataframe\">\n",
       "  <thead>\n",
       "    <tr style=\"text-align: right;\">\n",
       "      <th></th>\n",
       "      <th>1. open</th>\n",
       "      <th>2. high</th>\n",
       "      <th>3. low</th>\n",
       "      <th>4. close</th>\n",
       "      <th>5. volume</th>\n",
       "    </tr>\n",
       "    <tr>\n",
       "      <th>date</th>\n",
       "      <th></th>\n",
       "      <th></th>\n",
       "      <th></th>\n",
       "      <th></th>\n",
       "      <th></th>\n",
       "    </tr>\n",
       "  </thead>\n",
       "  <tbody>\n",
       "    <tr>\n",
       "      <th>2022-07-15 20:00:00</th>\n",
       "      <td>150.04</td>\n",
       "      <td>150.07</td>\n",
       "      <td>150.03</td>\n",
       "      <td>150.03</td>\n",
       "      <td>14628.0</td>\n",
       "    </tr>\n",
       "    <tr>\n",
       "      <th>2022-07-15 19:45:00</th>\n",
       "      <td>150.03</td>\n",
       "      <td>150.05</td>\n",
       "      <td>150.00</td>\n",
       "      <td>150.01</td>\n",
       "      <td>9047.0</td>\n",
       "    </tr>\n",
       "    <tr>\n",
       "      <th>2022-07-15 19:30:00</th>\n",
       "      <td>149.98</td>\n",
       "      <td>150.03</td>\n",
       "      <td>149.98</td>\n",
       "      <td>149.99</td>\n",
       "      <td>2640.0</td>\n",
       "    </tr>\n",
       "    <tr>\n",
       "      <th>2022-07-15 19:15:00</th>\n",
       "      <td>149.97</td>\n",
       "      <td>150.05</td>\n",
       "      <td>149.97</td>\n",
       "      <td>149.99</td>\n",
       "      <td>4076.0</td>\n",
       "    </tr>\n",
       "    <tr>\n",
       "      <th>2022-07-15 19:00:00</th>\n",
       "      <td>150.01</td>\n",
       "      <td>150.05</td>\n",
       "      <td>149.98</td>\n",
       "      <td>149.99</td>\n",
       "      <td>5786.0</td>\n",
       "    </tr>\n",
       "    <tr>\n",
       "      <th>...</th>\n",
       "      <td>...</td>\n",
       "      <td>...</td>\n",
       "      <td>...</td>\n",
       "      <td>...</td>\n",
       "      <td>...</td>\n",
       "    </tr>\n",
       "    <tr>\n",
       "      <th>2022-06-06 05:15:00</th>\n",
       "      <td>147.60</td>\n",
       "      <td>147.67</td>\n",
       "      <td>147.53</td>\n",
       "      <td>147.67</td>\n",
       "      <td>5784.0</td>\n",
       "    </tr>\n",
       "    <tr>\n",
       "      <th>2022-06-06 05:00:00</th>\n",
       "      <td>147.48</td>\n",
       "      <td>147.68</td>\n",
       "      <td>147.45</td>\n",
       "      <td>147.68</td>\n",
       "      <td>4717.0</td>\n",
       "    </tr>\n",
       "    <tr>\n",
       "      <th>2022-06-06 04:45:00</th>\n",
       "      <td>147.50</td>\n",
       "      <td>147.57</td>\n",
       "      <td>147.48</td>\n",
       "      <td>147.48</td>\n",
       "      <td>13377.0</td>\n",
       "    </tr>\n",
       "    <tr>\n",
       "      <th>2022-06-06 04:30:00</th>\n",
       "      <td>147.50</td>\n",
       "      <td>147.58</td>\n",
       "      <td>147.35</td>\n",
       "      <td>147.48</td>\n",
       "      <td>15533.0</td>\n",
       "    </tr>\n",
       "    <tr>\n",
       "      <th>2022-06-06 04:15:00</th>\n",
       "      <td>146.19</td>\n",
       "      <td>147.72</td>\n",
       "      <td>146.19</td>\n",
       "      <td>147.54</td>\n",
       "      <td>32221.0</td>\n",
       "    </tr>\n",
       "  </tbody>\n",
       "</table>\n",
       "<p>1790 rows × 5 columns</p>\n",
       "</div>"
      ],
      "text/plain": [
       "                     1. open  2. high  3. low  4. close  5. volume\n",
       "date                                                              \n",
       "2022-07-15 20:00:00   150.04   150.07  150.03    150.03    14628.0\n",
       "2022-07-15 19:45:00   150.03   150.05  150.00    150.01     9047.0\n",
       "2022-07-15 19:30:00   149.98   150.03  149.98    149.99     2640.0\n",
       "2022-07-15 19:15:00   149.97   150.05  149.97    149.99     4076.0\n",
       "2022-07-15 19:00:00   150.01   150.05  149.98    149.99     5786.0\n",
       "...                      ...      ...     ...       ...        ...\n",
       "2022-06-06 05:15:00   147.60   147.67  147.53    147.67     5784.0\n",
       "2022-06-06 05:00:00   147.48   147.68  147.45    147.68     4717.0\n",
       "2022-06-06 04:45:00   147.50   147.57  147.48    147.48    13377.0\n",
       "2022-06-06 04:30:00   147.50   147.58  147.35    147.48    15533.0\n",
       "2022-06-06 04:15:00   146.19   147.72  146.19    147.54    32221.0\n",
       "\n",
       "[1790 rows x 5 columns]"
      ]
     },
     "execution_count": 28,
     "metadata": {},
     "output_type": "execute_result"
    }
   ],
   "source": [
    "data"
   ]
  },
  {
   "cell_type": "markdown",
   "metadata": {},
   "source": [
    "### Step 5. Add a new column \"stock\" to the dataframe and add the ticker symbol"
   ]
  },
  {
   "cell_type": "code",
   "execution_count": null,
   "metadata": {
    "ExecuteTime": {
     "end_time": "2022-07-17T18:45:30.534355Z",
     "start_time": "2022-07-17T18:45:30.534355Z"
    }
   },
   "outputs": [],
   "source": [
    "apple[\"stock\"]=\"AAPL\""
   ]
  },
  {
   "cell_type": "markdown",
   "metadata": {},
   "source": [
    "### Step 6. Repeat the two previous steps for a few other stocks, always creating a new dataframe: Tesla, IBM and Microsoft. (Ticker symbols TSLA, IBM and MSFT.)"
   ]
  },
  {
   "cell_type": "code",
   "execution_count": null,
   "metadata": {},
   "outputs": [],
   "source": []
  },
  {
   "cell_type": "markdown",
   "metadata": {},
   "source": [
    "### Step 7. Combine the four separate dataFrames into one combined dataFrame df that holds the information for all four stocks"
   ]
  },
  {
   "cell_type": "code",
   "execution_count": null,
   "metadata": {},
   "outputs": [],
   "source": []
  },
  {
   "cell_type": "markdown",
   "metadata": {},
   "source": [
    "### Step 8. Shift the stock column into the index (making it a multi-level index consisting of the ticker symbol and the date)."
   ]
  },
  {
   "cell_type": "code",
   "execution_count": null,
   "metadata": {},
   "outputs": [],
   "source": []
  },
  {
   "cell_type": "markdown",
   "metadata": {},
   "source": [
    "### Step 7. Create a dataFrame called vol, with the volume values."
   ]
  },
  {
   "cell_type": "code",
   "execution_count": null,
   "metadata": {},
   "outputs": [],
   "source": []
  },
  {
   "cell_type": "markdown",
   "metadata": {},
   "source": [
    "### Step 8. Aggregate the data of volume to weekly.\n",
    "Hint: Be careful to not sum data from the same week of 2015 and other years."
   ]
  },
  {
   "cell_type": "code",
   "execution_count": null,
   "metadata": {},
   "outputs": [],
   "source": []
  },
  {
   "cell_type": "markdown",
   "metadata": {},
   "source": [
    "### Step 9. Find all the volume traded in the year of 2015"
   ]
  },
  {
   "cell_type": "code",
   "execution_count": null,
   "metadata": {},
   "outputs": [],
   "source": []
  }
 ],
 "metadata": {
  "kernelspec": {
   "display_name": "Python 3 (ipykernel)",
   "language": "python",
   "name": "python3"
  },
  "language_info": {
   "codemirror_mode": {
    "name": "ipython",
    "version": 3
   },
   "file_extension": ".py",
   "mimetype": "text/x-python",
   "name": "python",
   "nbconvert_exporter": "python",
   "pygments_lexer": "ipython3",
   "version": "3.9.12"
  }
 },
 "nbformat": 4,
 "nbformat_minor": 1
}
